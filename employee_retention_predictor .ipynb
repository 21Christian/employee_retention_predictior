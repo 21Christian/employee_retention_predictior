{
 "cells": [
  {
   "cell_type": "code",
   "execution_count": 46,
   "id": "967c0397",
   "metadata": {},
   "outputs": [
    {
     "name": "stderr",
     "output_type": "stream",
     "text": [
      "C:\\Users\\User\\anaconda3\\lib\\site-packages\\sklearn\\linear_model\\_logistic.py:814: ConvergenceWarning: lbfgs failed to converge (status=1):\n",
      "STOP: TOTAL NO. of ITERATIONS REACHED LIMIT.\n",
      "\n",
      "Increase the number of iterations (max_iter) or scale the data as shown in:\n",
      "    https://scikit-learn.org/stable/modules/preprocessing.html\n",
      "Please also refer to the documentation for alternative solver options:\n",
      "    https://scikit-learn.org/stable/modules/linear_model.html#logistic-regression\n",
      "  n_iter_i = _check_optimize_result(\n"
     ]
    },
    {
     "data": {
      "text/plain": [
       "0.7912"
      ]
     },
     "execution_count": 46,
     "metadata": {},
     "output_type": "execute_result"
    }
   ],
   "source": [
    "import pandas as pd\n",
    "from sklearn.linear_model import LogisticRegression\n",
    "from sklearn.preprocessing import LabelEncoder\n",
    "from matplotlib import pyplot as plt\n",
    "from sklearn.model_selection import train_test_split\n",
    "\n",
    "df = pd.read_csv('C:\\\\Users\\\\User\\\\Desktop\\\\Datasets\\\\HR_comma_sep.csv')\n",
    "\n",
    "# labeling the data \n",
    "le = LabelEncoder()\n",
    "dummies = pd.get_dummies(df.salary)\n",
    "merged = pd.concat([df, dummies], axis = 'columns')\n",
    "final = merged.drop(columns=['salary'])\n",
    "\n",
    "# creating a model\n",
    "model = LogisticRegression()\n",
    "# creating the training data \n",
    "X_train, X_test, y_train, y_test = train_test_split(final[['satisfaction_level', 'last_evaluation', 'number_project', \n",
    "                                                       'average_montly_hours', 'time_spent','Work_accident', \n",
    "                                                       'promotion', 'high', 'low', 'medium']], df.left, test_size=0.25)\n",
    "# training the model and checking its accuracy \n",
    "model.fit(X_train, y_train)\n",
    "model.score(X_test, y_test)"
   ]
  }
 ],
 "metadata": {
  "kernelspec": {
   "display_name": "Python 3 (ipykernel)",
   "language": "python",
   "name": "python3"
  },
  "language_info": {
   "codemirror_mode": {
    "name": "ipython",
    "version": 3
   },
   "file_extension": ".py",
   "mimetype": "text/x-python",
   "name": "python",
   "nbconvert_exporter": "python",
   "pygments_lexer": "ipython3",
   "version": "3.9.12"
  }
 },
 "nbformat": 4,
 "nbformat_minor": 5
}
